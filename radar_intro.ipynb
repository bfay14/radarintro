{
 "cells": [
  {
   "cell_type": "markdown",
   "id": "d2511c6a-553d-4495-9345-4bd7d202b233",
   "metadata": {},
   "source": [
    "# Introduction to NEXRAD Radar Files\n",
    "This notebook is meant to be added to, modified, etc. by both of us so feel free to make changes! Remember, as long as you commit, gitlab keeps old versions!\n",
    "\n",
    "This notebook has two main goals:\n",
    "\n",
    "1. Learn how to work with and interpret radar files using py-ART and a few other common Python packages (mainly numpy)\n",
    "2. Learn how to collaborate on a file in git\n",
    "\n",
    "\n",
    "* Instructions:\n",
    "  - Create a Python environment using [this guide from py-ART](https://arm-doe.github.io/pyart/#install). Make sure you also include jupyter so you can load the notebook! I recommend using conda for this, as the installation guide suggests. If you already have an environment containing all these packages, you can use that instead.\n",
    "  \n",
    "  - Download NEXRAD level-2\\* file from NOAA Big Data Program: https://s3.amazonaws.com/noaa-nexrad-level2/index.html. Try to think of a time when it rained, and pull the files from that time. The archive here goes back several years, so the files will be there. You'll use the KCXX radar in Burlington, VT, as Montreal is in range of this radar. Note that all times are in UTC in this archive.\n",
    "  \n",
    "  - Have fun! I've included some exercises in here along with the examples shown, to give you some experience doing this for yourself. Feel free to look around the internet and see what cool things people have done with it. They also provide a [notebook gallery](https://arm-doe.github.io/pyart/notebook-gallery.html) which shows some examples of how to work with the py-ART radar object, manipulating the radar object fields, etc. \n",
    "  \n",
    "\\* Note: \"level\" here refers to amount of processing done on the data. Level-1 is raw radar data, no one uses this. Level 2 is the processed radar data that includes things like reflectivity, Doppler velocity, polarimetric variables. Level-3 files are even more processed and include things like storm-relative velocity, vertically integrated liquid (VIL), basically additional products that can be computed from the base level 2 data. I chose level-2 data for these introductory things because there's a somewhat limited amount of variables to look at, so it's a bit less overwhelming. :)\n",
    "\n",
    "Let me know if anything doesn't work or you find bugs. This is for your education, I don't want my subpar coding skills to get in the way!"
   ]
  },
  {
   "cell_type": "code",
   "execution_count": null,
   "id": "772cb4bf-75fb-4d50-b81b-72d41c559b5b",
   "metadata": {},
   "outputs": [
    {
     "name": "stdout",
     "output_type": "stream",
     "text": [
      "\n",
      "## You are using the Python ARM Radar Toolkit (Py-ART), an open source\n",
      "## library for working with weather radar data. Py-ART is partly\n",
      "## supported by the U.S. Department of Energy as part of the Atmospheric\n",
      "## Radiation Measurement (ARM) Climate Research Facility, an Office of\n",
      "## Science user facility.\n",
      "##\n",
      "## If you use this software to prepare a publication, please cite:\n",
      "##\n",
      "##     JJ Helmus and SM Collis, JORS 2016, doi: 10.5334/jors.119\n",
      "\n"
     ]
    }
   ],
   "source": [
    "from math import radians, sin, cos, asin, sqrt\n",
    "import numpy as np\n",
    "import pyart\n",
    "from scipy.spatial import KDTree"
   ]
  },
  {
   "cell_type": "markdown",
   "id": "4ec874ad-9052-4c01-8b56-cf175c5605d2",
   "metadata": {},
   "source": [
    "## Helper Functions"
   ]
  },
  {
   "cell_type": "code",
   "execution_count": null,
   "id": "91738ab4-870a-4946-8fb4-a46ffa3b5765",
   "metadata": {},
   "outputs": [],
   "source": [
    "def haversine(lon1, lat1, lon2, lat2):\n",
    "    '''\n",
    "    Compute distance between two points using the haversine formula.\n",
    "    '''\n",
    "    \n",
    "    lon1, lat1, lon2, lat2 = map(radians, [lon1, lat1, lon2, lat2])\n",
    "    dlon = lon2 - lon1\n",
    "    dlat = lat2 - lat1    \n",
    "    a = sin(dlat / 2) ** 2 + cos(lat1) * cos(lat2) * sin(dlon / 2) ** 2\n",
    "    return 2 * 6371 * asin(sqrt(a))\n",
    "\n",
    "def get_nearest_lat_lon(lat, lon, obj):\n",
    "    '''\n",
    "    Given lat/lon coordinates of a location, get the nearest lat/lon measured by the radar.\n",
    "    '''\n",
    "    # The \"0\" argument given here represents the sweep, i.e. radar tilt. We're looking at the lowest tilt for now.\n",
    "    radarlats, radarlons, radaralts = obj.get_gate_lat_lon_alt(0)\n",
    "    # A KDTree is a relatively quick way to find the nearest neighbor of a point. First, the KDTree is built based on the data.\n",
    "    # Then, we can \"query\" it with a point, in this case your location, to get the nearest point in the radar file.\n",
    "    tree = KDTree(np.c_[radarlons.ravel(), radarlats.ravel()])\n",
    "    # dd = distance between point of interest and nearest neighbor. ii = index of nearest neighbor\n",
    "    dd, ii = tree.query([lon, lat], k=1)\n",
    "    print(f'The nearest point is {lat, lon} and is {dd} degrees away.')\n",
    "    # ii can be used to get the lat/lon (or any other variable) values of the nearest neighbor, so we will return this\n",
    "    return ii"
   ]
  },
  {
   "cell_type": "markdown",
   "id": "9d6cb967-ca59-4fc7-95da-35d4c62ff4e4",
   "metadata": {},
   "source": [
    "## Read in some NEXRAD Level 2 data\n",
    "In a future exercise we may try this programmatically. For now though navigating through the above S3 bucket will help you understand the layout of the data.\n",
    "\n",
    "From the bucket above, download the most recent file from the KCXX (Burlington, VT) radar; KCXX covers Montreal and surrounding areas as well. Or if you want, think of the last time it rained, and pull a file from that date and time."
   ]
  },
  {
   "cell_type": "code",
   "execution_count": null,
   "id": "55dfe173-03f6-4aa6-833f-3ddc9044daf8",
   "metadata": {},
   "outputs": [],
   "source": [
    "# change this path to the location where you stored your NEXRAD file\n",
    "# note I'm using a Mac, if you have a Windows laptop your paths might look different\n",
    "radar_filename = '/path/to/radar/file/including/filename'"
   ]
  },
  {
   "cell_type": "markdown",
   "id": "4a5f3a11-d741-4fae-848f-a1525de16299",
   "metadata": {},
   "source": [
    "Now, use pyart.io.read() to read the file."
   ]
  },
  {
   "cell_type": "code",
   "execution_count": 1,
   "id": "118d92d2-cdd2-4822-b6c6-e624492ee159",
   "metadata": {},
   "outputs": [],
   "source": [
    "# Variables in the radar file are numpy masked arrays, so numpy can be used to work with them.\n",
    "#radar = pyart.io.read(radar_filename)"
   ]
  },
  {
   "cell_type": "markdown",
   "id": "1ffb5c9b-022d-413a-bff0-379cd709da36",
   "metadata": {},
   "source": [
    "## Let's look around the file a bit and see what's in it.\n",
    "The pyart radar object has a `.info()` method that will give you more information than you could ever need about the file. In the cell below, use [the pyart radar object docs](https://arm-doe.github.io/pyart/notebooks/the_pyart_radar_object_and_indexing.html) to get the following information:\n",
    "\n",
    "* Altitude of the radar\n",
    "* Range of valid reflectivity values\n",
    "* Latitude and longitude of the radar"
   ]
  },
  {
   "cell_type": "code",
   "execution_count": null,
   "id": "2f183389-5674-403d-967d-6a60068185e7",
   "metadata": {},
   "outputs": [],
   "source": [
    "# insert code here to get above listed attributes\n",
    "# can use the .info() method, or get the attributes individually based on the link above"
   ]
  },
  {
   "cell_type": "markdown",
   "id": "3e672100-38b7-4ecf-88bb-fe2ce604af63",
   "metadata": {},
   "source": [
    "Altitude: xxxxx\n",
    "\n",
    "Range: xxxxx\n",
    "\n",
    "Latitude of radar: xxxxx\n",
    "\n",
    "Longitude of radar: xxxxx"
   ]
  },
  {
   "cell_type": "markdown",
   "id": "973fd57a-5290-4ff4-a413-aff494820542",
   "metadata": {},
   "source": [
    "## Get radar characteristics at (roughly) your location\n",
    "As far as I can tell from google maps, the coordinates of McGill are 45.505, -73.577. Use the \"haversine\" function above to compute the great circle distance from the radar to your location and print it."
   ]
  },
  {
   "cell_type": "code",
   "execution_count": null,
   "id": "30582507-4ce4-41ea-86b8-30ef9a0dd37b",
   "metadata": {},
   "outputs": [],
   "source": [
    "## calculate distance here\n",
    "yourlat = 45.505\n",
    "yourlon = -73.577\n",
    "dist_to_radar = haversine(yourlat, yourlon, radar.latitude['data'], radar.longitude['data'])\n",
    "print(f'{dist_to_radar} km')"
   ]
  },
  {
   "cell_type": "markdown",
   "id": "48377516-e636-4333-aa43-71c92393fc10",
   "metadata": {},
   "source": [
    "## Get the lat/lon at each gate, and find the data for your location.\n",
    "We are going to use a structure called a KDTree to find the nearest point in the radar data to your location. I've already written this code for you, so if that makes no sense, don't worry about it. The level 2 files don't come with lat/lon as variables, but they can easily be retrieved using the `.get_gate_lat_lon_alt()` method on the radar object."
   ]
  },
  {
   "cell_type": "code",
   "execution_count": null,
   "id": "1c6f6c23-e3ef-4f63-8584-9ae71c03da96",
   "metadata": {},
   "outputs": [],
   "source": [
    "# get_nearest_lat_lon actually returns the index of the lat and lon, not the values themselves. That index will be useful to us later. \n",
    "index_of_nn = get_nearest_lat_lon(yourlat, yourlon, radar)"
   ]
  },
  {
   "cell_type": "markdown",
   "id": "11cfea17-eea0-40e8-a93e-2618ea73b039",
   "metadata": {},
   "source": [
    "## Actual data!\n",
    "\n",
    "Each variable you saw earlier has a number of attributes, including data, standard_name, long_name, etc. To view the data for a variable, for example reflectivity, you first identify the field and then specify that you want the data from the field, like so:"
   ]
  },
  {
   "cell_type": "code",
   "execution_count": null,
   "id": "96c27dc4-e22f-4ad1-a5ea-6b5f8555f15f",
   "metadata": {},
   "outputs": [],
   "source": [
    "radar.fields['reflectivity']['data']"
   ]
  },
  {
   "cell_type": "markdown",
   "id": "7822fd3c-67e3-4b70-95db-ea2f531ad464",
   "metadata": {},
   "source": [
    "Let's see what the reflectivity is at your location in this scan!"
   ]
  },
  {
   "cell_type": "code",
   "execution_count": null,
   "id": "27bbaf90-8c40-419e-95f2-4b66bc86b8c4",
   "metadata": {},
   "outputs": [],
   "source": [
    "# The .ravel() method is used on a numpy ndarray to \"flatten\" it into one dimension, This is how the distance in the nearest neighbor\n",
    "# calculation was done, so the index_of_nn is relative to these 1-D arrays. So it's easiest when using this index to .ravel() the field you're\n",
    "# interest in to get the correct point.\n",
    "print(radar.fields['reflectivity']['data'].ravel()[index_of_nn], ' dBZ')"
   ]
  },
  {
   "cell_type": "markdown",
   "id": "7778891c-dda8-42d1-a5b3-8cddd28d0900",
   "metadata": {},
   "source": [
    "Don't worry about the mask for the time being. It's just a way to remove data points with no data. (Remember a radar can only show us data if there's something in the atmosphere for it to \"see\"!)\n",
    "\n",
    "Now, let's see what the reflectivity field looks like. To do this, we can make what is called a PPI plot, which stands for Plan Position Indicator. This is more or less what you see when you look at a radar app, though some transforms have been applied to plot it on a Cartesian grid in those apps. (they are also using level-3 data, not level-2)"
   ]
  },
  {
   "cell_type": "code",
   "execution_count": null,
   "id": "a49f30b3-3203-4107-b6d3-f95ba6870218",
   "metadata": {},
   "outputs": [],
   "source": [
    "d = pyart.graph.RadarDisplay(radar)\n",
    "d.plot_ppi('reflectivity', sweep=0, cmap='pyart_NWSRef')"
   ]
  },
  {
   "cell_type": "markdown",
   "id": "5d5de9fc-75e7-4022-953e-897826eb1989",
   "metadata": {},
   "source": [
    "Note the \"sweep\" keyword argument in the function above. Recall that radars scan at different angles, starting with a low level scan and moving up to create what's called a _volume_. Each angle is called a tilt or a sweep. The lowest tilt is 0.5 degrees above horizontal and then subsequent tilts happen in a set pattern. For instance the second tilt (you'll call it tilt 1 here, since the index starts at 0), is 0.9 degrees, the third is 1.3, and they continue to go up from there. You can play around with the sweep number and check the titles to see what the elevation angle actually is for each sweep. e.g. \"KPAH 0.5 Deg.\" means the 0.5 degree tilt."
   ]
  },
  {
   "cell_type": "markdown",
   "id": "280750c5-98b7-4e45-affe-494d7a76bdaa",
   "metadata": {},
   "source": [
    "Your turn! In the cell below, make a PPI plot of _velocity_ in the lowest sweep. Use the cmap \"pyart_NWSVel\". You can use the same \"d\" RadarDisplay object created above."
   ]
  },
  {
   "cell_type": "code",
   "execution_count": null,
   "id": "b65e5601-f498-457d-80ab-39f6828833d1",
   "metadata": {},
   "outputs": [],
   "source": [
    "# Put your ppi plot here"
   ]
  },
  {
   "cell_type": "markdown",
   "id": "df16650f-76d0-415e-9d83-20853eb02113",
   "metadata": {},
   "source": [
    "You can also make an RHI plot, which is a good way to visualize how the beam height changes with distance from radar. For example, see the reflectivity RHI for sweep 0 (the lowest sweep) below."
   ]
  },
  {
   "cell_type": "code",
   "execution_count": null,
   "id": "f96b5449-ccd4-4b6f-a942-8b9838992369",
   "metadata": {},
   "outputs": [],
   "source": [
    "d.plot_rhi('reflectivity', sweep=0, cmap='pyart_NWSRef')"
   ]
  },
  {
   "cell_type": "code",
   "execution_count": null,
   "id": "cfec0cd6-ed98-4d40-89c2-372a61e9fd75",
   "metadata": {},
   "outputs": [],
   "source": [
    "# Here, make an RHI plot of reflectivity for sweep 2, i.e. the 1.3 degree tilt"
   ]
  },
  {
   "cell_type": "markdown",
   "id": "708b38e1-e40f-4017-b6be-54799aec0850",
   "metadata": {},
   "source": [
    "Using the RHI plots above and your distance from the radar calculated earlier, estimate the height of the radar beam at your location. You can do this one of two ways:\n",
    "\n",
    "1). Use the `d.set_limits()` method shown [here](https://arm-doe.github.io/pyart/API/generated/pyart.graph.RadarDisplay.set_limits.html) to create a zoomed in RHI plot and estimate from there.\n",
    "\n",
    "2) Use the `radar.get_gate_lat_lon_alt()` function [here](https://arm-doe.github.io/pyart-docs-travis/API/generated/pyart.core.Radar.get_gate_lat_lon_alt.html). Remember you have the index of the nearest point to your location in index_to_nn!"
   ]
  },
  {
   "cell_type": "code",
   "execution_count": null,
   "id": "db57bdff-5d69-4b7d-9f61-c0db8e0393a4",
   "metadata": {},
   "outputs": [],
   "source": [
    "# Estimate height of radar beam in this cell"
   ]
  },
  {
   "cell_type": "markdown",
   "id": "e40dd994-31d8-4419-89c2-d8979e5441b3",
   "metadata": {},
   "source": [
    "Answer in the below markdown cell: what are the implications of this beam height for severe weather forecasting? How about precipitation type detection?"
   ]
  },
  {
   "cell_type": "markdown",
   "id": "bb871596-7f62-4c83-93ae-982949c51b43",
   "metadata": {},
   "source": [
    "**Put answers here**"
   ]
  },
  {
   "cell_type": "markdown",
   "id": "4c3f8554-111c-4b50-a586-faf961af5692",
   "metadata": {},
   "source": [
    "Use the velocity field and index_of_nn to get the velocity at your location. Is this representative of the true wind speed at your location? Why or why not? (I have two reasons in mind here)"
   ]
  },
  {
   "cell_type": "markdown",
   "id": "c0f61278-40c6-4d28-b959-8f8fe2e1875c",
   "metadata": {},
   "source": [
    "**Put answers here**"
   ]
  },
  {
   "cell_type": "markdown",
   "id": "5f234c83-0cc7-439c-be01-75c0d3ed198a",
   "metadata": {},
   "source": [
    "For the next exercise we'll start using this for more fun stuff!"
   ]
  }
 ],
 "metadata": {
  "kernelspec": {
   "display_name": "Python 3 (ipykernel)",
   "language": "python",
   "name": "python3"
  },
  "language_info": {
   "codemirror_mode": {
    "name": "ipython",
    "version": 3
   },
   "file_extension": ".py",
   "mimetype": "text/x-python",
   "name": "python",
   "nbconvert_exporter": "python",
   "pygments_lexer": "ipython3",
   "version": "3.8.12"
  }
 },
 "nbformat": 4,
 "nbformat_minor": 5
}
